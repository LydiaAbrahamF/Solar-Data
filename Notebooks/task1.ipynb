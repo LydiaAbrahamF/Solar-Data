{
 "cells": [
  {
   "cell_type": "code",
   "execution_count": null,
   "id": "c597020b",
   "metadata": {},
   "outputs": [],
   "source": []
  },
  {
   "cell_type": "markdown",
   "id": "467a944e",
   "metadata": {},
   "source": [
    "Test "
   ]
  },
  {
   "cell_type": "markdown",
   "id": "0666eac8",
   "metadata": {},
   "source": []
  }
 ],
 "metadata": {
  "language_info": {
   "name": "python"
  }
 },
 "nbformat": 4,
 "nbformat_minor": 5
}
